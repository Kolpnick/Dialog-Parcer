{
  "nbformat": 4,
  "nbformat_minor": 0,
  "metadata": {
    "colab": {
      "provenance": []
    },
    "kernelspec": {
      "name": "python3",
      "display_name": "Python 3"
    },
    "language_info": {
      "name": "python"
    }
  },
  "cells": [
    {
      "cell_type": "markdown",
      "source": [
        "## Импортирование используемых библиотек"
      ],
      "metadata": {
        "id": "XCmpfHHs36w1"
      }
    },
    {
      "cell_type": "code",
      "execution_count": 2,
      "metadata": {
        "id": "DBTukjRUKOIE"
      },
      "outputs": [],
      "source": [
        "import pandas as pd\n",
        "from natasha import (\n",
        "    Segmenter,\n",
        "    MorphVocab,\n",
        "    NewsEmbedding,\n",
        "    NewsMorphTagger,\n",
        "    Doc\n",
        ")"
      ]
    },
    {
      "cell_type": "markdown",
      "source": [
        "## Блок со вспомогательными функциями"
      ],
      "metadata": {
        "id": "Lx5fL34t4KF3"
      }
    },
    {
      "cell_type": "code",
      "source": [
        "def prepare_text(text):\n",
        "    doc = Doc(text)\n",
        "    doc.segment(segmenter)      #разбиваем текст на токены и предложения\n",
        "    doc.tag_morph(morph_tagger) #для каждого токена получаем морфологические метки\n",
        "    #лемматизируем каждый токен\n",
        "    for token in doc.tokens:\n",
        "        token.lemmatize(morph_vocab)\n",
        "    return doc\n",
        "\n",
        "#проверяем, есть ли лемма в списке приветствий\n",
        "def detect_greeting(token):\n",
        "    if token.lemma in greeting_list:\n",
        "        return True\n",
        "    return False\n",
        "\n",
        "#проверяем, есть ли лемма в списке представлений\n",
        "def detect_manager_name(token):\n",
        "    maybe_name = False\n",
        "    if token.lemma in representation_list:\n",
        "        maybe_name = True\n",
        "    return maybe_name\n",
        "\n",
        "#извлекаем название компаний\n",
        "def detect_company(token, company_name, company_flag):\n",
        "    #первое слово в тексте после слова \"компания\" обязательно добавляем в буфер\n",
        "    if company_flag == 2:\n",
        "        company_name += token.text\n",
        "        company_flag = 1\n",
        "    elif company_flag:\n",
        "        #добавление слов в буфер заканчиваем, если встретили местоимение или императивный глагол\n",
        "        if (token.pos in ['PRON', 'ADJ']) or ((token.pos == 'VERB') and (token.feats['Aspect'] == 'Imp')):\n",
        "            company_flag = 0\n",
        "            return company_name, company_flag\n",
        "        company_name += ' '\n",
        "        company_name += token.text\n",
        "    elif token.lemma == 'компания':\n",
        "        company_flag = 2\n",
        "    return company_name, company_flag\n",
        "\n",
        "#проверяем, попрощался ли менеджер\n",
        "def check_manager_goodbye(df, i):\n",
        "    manager_replica_number_invert = 3   #счетчик количества реплик менеджера -\n",
        "                                        #нужен, чтобы проверять прощание только\n",
        "                                        #в последних трёх репликах\n",
        "    manager_said_bye = False\n",
        "\n",
        "    while manager_replica_number_invert != 0:\n",
        "        i -= 1\n",
        "        line = df.iloc[i]\n",
        "        if line['role'] == 'manager':\n",
        "            manager_replica_number_invert -= 1\n",
        "            #проверяем наличие фраз из списка с прощаниями в исследуемой реплике\n",
        "            for goodbye_phrase in goodbye_list:\n",
        "                if goodbye_phrase in line['text'].lower():\n",
        "                    df.at[i, 'isGoodbye'] = True\n",
        "                    manager_said_bye = True\n",
        "                    break\n",
        "    return manager_said_bye"
      ],
      "metadata": {
        "id": "dMcADYn1Ee7o"
      },
      "execution_count": 30,
      "outputs": []
    },
    {
      "cell_type": "markdown",
      "source": [
        "## Объявление переменных"
      ],
      "metadata": {
        "id": "qFGR2i4J4PqT"
      }
    },
    {
      "cell_type": "code",
      "source": [
        "segmenter = Segmenter()\n",
        "morph_vocab = MorphVocab()\n",
        "embedding = NewsEmbedding()\n",
        "morph_tagger = NewsMorphTagger(embedding)"
      ],
      "metadata": {
        "id": "EaJzVbsiED_N"
      },
      "execution_count": 4,
      "outputs": []
    },
    {
      "cell_type": "code",
      "source": [
        "greeting_list = ['добрый', 'здравствовать', 'приветствовать']\n",
        "goodbye_list = ['до свидания', 'всего хорошего', 'всего доброго',\n",
        "                'удачи', 'счастливо', 'до завтра', 'до понедельника',\n",
        "                'до вторника', 'до среды', 'до четверга', 'до пятницы',\n",
        "                'до субботы', 'до воскресенья', 'хорошего дня',\n",
        "                'хорошего вечера']\n",
        "representation_list = ['я', 'звать', 'имя', 'это']"
      ],
      "metadata": {
        "id": "n6STjAegEYJK"
      },
      "execution_count": 76,
      "outputs": []
    },
    {
      "cell_type": "markdown",
      "source": [
        "## Считывание данных из файла"
      ],
      "metadata": {
        "id": "l0t34_cC4ao7"
      }
    },
    {
      "cell_type": "code",
      "source": [
        "df = pd.read_csv('test_data.csv')\n",
        "df[['isGreeting', 'isGoodbye', 'isIntroducing']] = False\n",
        "df[['nameManager', 'nameCompany']] = None"
      ],
      "metadata": {
        "id": "88q9Ovc2O3x9"
      },
      "execution_count": 77,
      "outputs": []
    },
    {
      "cell_type": "markdown",
      "source": [
        "## Парсинг данных"
      ],
      "metadata": {
        "id": "dvZkpukw4e-c"
      }
    },
    {
      "cell_type": "code",
      "source": [
        "dialog_id = 0                   #номер диалога\n",
        "manager_replica_number = 0      #счетчик количества реплик менеджера - нужен, чтобы \n",
        "                                #проверять приветствие только в первых трёх репликах\n",
        "manager_polite_list = [[0, 0]]  #список из списков - первый элемент вложенного списка \n",
        "                                #отвечает за то, поздоровался ли менеджер, \n",
        "                                #второй - попрощался ли\n",
        "\n",
        "for i in range(len(df)):\n",
        "    line = df.iloc[i]\n",
        "\n",
        "    #если предыдущий диалог закончился, то меняем значение dialog_id,\n",
        "    #и проверяем, попрощался ли менеджер\n",
        "    if dialog_id != line['dlg_id']:\n",
        "        dialog_id = line['dlg_id']\n",
        "        if check_manager_goodbye(df, i):\n",
        "            manager_polite_list[dialog_id - 1][1] = 1\n",
        "        manager_replica_number = 0\n",
        "        manager_polite_list.append([0, 0])\n",
        "\n",
        "    if manager_replica_number < 3:\n",
        "        #проверяем только реплики менеджера\n",
        "        if line['role'] == 'manager':\n",
        "            manager_replica_number += 1\n",
        "            doc = prepare_text(line['text'])\n",
        "\n",
        "            is_greeting = False\n",
        "            manager_name = ''       #буфер для имени менеджера\n",
        "            manager_flag = False    #флаг - активирует добавление слов в буфер менеджера\n",
        "            company_name = ''       #буфер для названия компании\n",
        "            company_flag = 0        #флаг - активирует добавление слов в буфер компании\n",
        "\n",
        "            for j in range(len(doc.tokens)):\n",
        "                token = doc.tokens[j]\n",
        "                #определяем, является ли токен приветствием\n",
        "                if not is_greeting:\n",
        "                    is_greeting = detect_greeting(token)\n",
        "                #определяем имя менеджера\n",
        "                if not manager_name:\n",
        "                    #проверяем, был ли предыдущий токен был из списка представлений\n",
        "                    if manager_flag:\n",
        "                        manager_flag = False\n",
        "                        #добавляем текущий токен как имя менеджера, если это \n",
        "                        #одушевлённое существительное или если поблизости есть слово \"звать\"\n",
        "                        if (token.pos == 'NOUN') and (token.feats['Animacy'] == 'Anim'):\n",
        "                            manager_name = token.text\n",
        "                        elif ((doc.tokens[j-1].lemma == 'я') and \n",
        "                              ((doc.tokens[j-2].lemma == 'звать') or \n",
        "                               (doc.tokens[j+1].lemma == 'звать'))):\n",
        "                            manager_name = token.text\n",
        "                    manager_flag = detect_manager_name(token)\n",
        "                #определяем имя компании\n",
        "                company_name, company_flag = detect_company(token, company_name, company_flag)\n",
        "\n",
        "            if is_greeting:\n",
        "                df.at[i, 'isGreeting'] = True   #добавляем запись в датафрейм,\n",
        "                                                #если менеджер здоровался\n",
        "                manager_polite_list[dialog_id][0] = 1\n",
        "\n",
        "            if manager_name:\n",
        "                df.at[i, 'nameManager'] = manager_name  #добавляем запись в датафрейм,\n",
        "                                                        #если нашли имя менеджера\n",
        "                df.at[i, 'isIntroducing'] = True    #добавляем запись в датафрейм,\n",
        "                                                    #если менеджер представился\n",
        "\n",
        "            if company_name:\n",
        "                df.at[i, 'nameCompany'] = company_name  #добавляем запись в датафрейм,\n",
        "                                                        #если нашли название компании\n",
        "\n",
        "#так как для последнего диалога не проверили прощание менеджера - делаем это вне цикла\n",
        "if check_manager_goodbye(df, i + 1):\n",
        "    manager_polite_list[dialog_id][1] = 1"
      ],
      "metadata": {
        "id": "iJRangdcCSOO"
      },
      "execution_count": 81,
      "outputs": []
    },
    {
      "cell_type": "markdown",
      "source": [
        "## Вывод результата для каждого диалога"
      ],
      "metadata": {
        "id": "4jdUPjea4tYN"
      }
    },
    {
      "cell_type": "code",
      "source": [
        "for i in range(dialog_id + 1):\n",
        "    print('Диалог', i)\n",
        "    print('Реплики, где менеджер поздоровался:', df[(df.dlg_id == i) & (df.isGreeting == True)].text.values)\n",
        "    print('Реплики, где менеджер представился:', df[(df.dlg_id == i) & (df.isIntroducing == True)].text.values)\n",
        "    print('Имя менеджера:', df[(df.dlg_id == i) & (df.nameManager)].nameManager.values)\n",
        "    print('Название компании:', df[(df.dlg_id == i) & (df.nameCompany)].nameCompany.values)\n",
        "    print('Реплики, где менеджер попрощался:', df[(df.dlg_id == i) & (df.isGoodbye == True)].text.values)\n",
        "    print('Менеджер поздоровался и попрощался:', manager_polite_list[i] == [1, 1])\n",
        "    print()"
      ],
      "metadata": {
        "id": "rtzekMIYOpGa"
      },
      "execution_count": null,
      "outputs": []
    },
    {
      "cell_type": "markdown",
      "source": [
        "### Вывод всего датафрейма"
      ],
      "metadata": {
        "id": "uV8V8pZe4zp9"
      }
    },
    {
      "cell_type": "code",
      "source": [
        "df"
      ],
      "metadata": {
        "id": "ImpIB7AqKOJr"
      },
      "execution_count": null,
      "outputs": []
    }
  ]
}